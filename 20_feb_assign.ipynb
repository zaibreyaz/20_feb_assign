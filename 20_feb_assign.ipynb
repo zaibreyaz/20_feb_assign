{
 "cells": [
  {
   "cell_type": "code",
   "execution_count": null,
   "id": "75f8005b",
   "metadata": {},
   "outputs": [],
   "source": [
    "\"\"\"Q1. Explain GET and POST methods.\n",
    "\n",
    "    Ans: GET and POST are two methods that your web browser uses to communicate with a website. GET is like asking a \n",
    "   \t\t question and receiving an answer. When you type a URL into your browser, it uses GET to ask the website for \n",
    "         the page you want to see, and the website responds with the page content. POST is like submitting a form. \n",
    "         When you fill out a form on a website and click submit, your browser uses POST to send the information you \n",
    "         entered to the website for processing. In Flask, you can handle both GET and POST requests using the request module.\n",
    "\"\"\""
   ]
  },
  {
   "cell_type": "code",
   "execution_count": null,
   "id": "3c727203",
   "metadata": {},
   "outputs": [],
   "source": [
    "\"\"\"Q2. Why is request used in Flask?\n",
    "\n",
    "\tAns: In flask request is used to handle HTTP request from user(client) end. When a user send a request to an application, \n",
    "    \t the application creates a request object which contains all the information about the request such as request method, \n",
    "         form data and ogther important infromations. The request object is used to process the request and generate a response \n",
    "         which is sent back to the client. Without request, the application would not be able to interact with the user for any \n",
    "         input from them.\n",
    "\"\"\""
   ]
  },
  {
   "cell_type": "code",
   "execution_count": null,
   "id": "0921eeb8",
   "metadata": {},
   "outputs": [],
   "source": [
    "\"\"\"Q3. Why is redirect() used in Flask?\n",
    "\n",
    "\tAns: The redirect() function is used in flask to redirect users from one URL to another. \n",
    "    \t It is useful when you want to move from webpage to another.\n",
    "\"\"\""
   ]
  },
  {
   "cell_type": "code",
   "execution_count": null,
   "id": "69c424d3",
   "metadata": {},
   "outputs": [],
   "source": [
    "\"\"\"Q4. What are templates in Flask? Why is the render_template() function used?\n",
    "\n",
    "\tAns: Templates in Flask are files that contain HTML and CSS code.\n",
    "    \t The render_template() function in Flask is used to generate HTML pages using these templates and data. \n",
    "         It takes the name of a template and a set of data as arguments and returns an HTML page that includes \n",
    "         the data in appropriate places in the templates.\n",
    "\"\"\""
   ]
  },
  {
   "cell_type": "code",
   "execution_count": null,
   "id": "0dc5f36b",
   "metadata": {},
   "outputs": [],
   "source": [
    "\"\"\"Q5. Create a simple API. Use Postman to test it. Attach the screenshot of the output in the Jupyter Notebook.\n",
    "\n",
    "\tAns: \n",
    "\"\"\"\n",
    "\n",
    "from flask import Flask, request, jsonify\n",
    "\n",
    "app = Flask(__name__)\n",
    "\n",
    "@app.route('/postman_data', methods=['POST'])\n",
    "def hello():\n",
    "    if(request.method == 'POST'):\n",
    "        n1 = int(request.json['n1'])\n",
    "        n2 = int(request.json['n2'])\n",
    "        s = n1 + n2\n",
    "    return jsonify(f\"The sum of {n1} and {n2} is {s}\")\n",
    "\n",
    "if __name__ == '__main__':\n",
    "    app.run()"
   ]
  }
 ],
 "metadata": {
  "kernelspec": {
   "display_name": "Python 3 (ipykernel)",
   "language": "python",
   "name": "python3"
  },
  "language_info": {
   "codemirror_mode": {
    "name": "ipython",
    "version": 3
   },
   "file_extension": ".py",
   "mimetype": "text/x-python",
   "name": "python",
   "nbconvert_exporter": "python",
   "pygments_lexer": "ipython3",
   "version": "3.9.13"
  }
 },
 "nbformat": 4,
 "nbformat_minor": 5
}
